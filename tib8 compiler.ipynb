{
 "cells": [
  {
   "cell_type": "code",
   "execution_count": 3,
   "metadata": {},
   "outputs": [],
   "source": [
    "import re\n",
    "\n",
    "TOKEN_CATEGORIES = [\n",
    "    ('while_keyword', 'while$'),\n",
    "    ('print_keyword', 'print$'),\n",
    "    ('left_bracket', '\\{$'),\n",
    "    ('right_bracket', '\\}$'),\n",
    "    ('left_paren', '\\($'),\n",
    "    ('right_paren', '\\)$'),\n",
    "    ('add_operator', '\\+$'),\n",
    "    ('subtract_operator', '-$'),\n",
    "    ('assignment_operator', '=$'),\n",
    "    ('lessthan_comparator', '<$'),\n",
    "    ('greaterthan_comparator', '>$'),\n",
    "    ('variable_name', '[a-zA-Z]+\\w*'),\n",
    "    ('positive_integer', '\\d+'),\n",
    "    ('negative_integer', '-\\d+')\n",
    "]\n",
    "\n",
    "#Lexical Analysis\n",
    "def scan(lexeme):\n",
    "    for token_category in TOKEN_CATEGORIES:\n",
    "        regex = re.compile(token_category[1])\n",
    "        if regex.match(lexeme):\n",
    "            return (token_category[0], lexeme)\n",
    "    print(\"Unexpected pattern: \", lexeme)\n",
    "    \n",
    "def tokenize(lexemes):\n",
    "    tokens = []\n",
    "    for lexeme in lexemes:\n",
    "        tokens.append(scan(lexeme))\n",
    "    return tokens\n",
    "\n",
    "def lex(input):\n",
    "    tokens = []\n",
    "    lines = input.split('\\n')\n",
    "    for line in lines:\n",
    "        tokens.extend(tokenize(line.split()))\n",
    "        tokens.append(('newline', ';'))\n",
    "    return tokens\n",
    "        \n",
    "#Syntactic Analysis\n",
    "\n",
    "\n",
    "#Semantic Analysis\n",
    "\n",
    "#Intermediate Code Generation\n",
    "\n",
    "#Optimization\n",
    "\n",
    "#Code Generation"
   ]
  },
  {
   "cell_type": "code",
   "execution_count": 5,
   "metadata": {},
   "outputs": [
    {
     "name": "stdout",
     "output_type": "stream",
     "text": [
      "Tokens: \n",
      "[('variable_name', 'x'), ('assignment_operator', '='), ('positive_integer', '0'), ('newline', ';'), ('while_keyword', 'while'), ('left_paren', '('), ('variable_name', 'x'), ('lessthan_comparator', '<'), ('positive_integer', '10'), ('right_paren', ')'), ('left_bracket', '{'), ('newline', ';'), ('variable_name', 'x'), ('assignment_operator', '='), ('variable_name', 'x'), ('add_operator', '+'), ('positive_integer', '1'), ('newline', ';'), ('print_keyword', 'print'), ('variable_name', 'x'), ('newline', ';'), ('right_bracket', '}'), ('newline', ';')]\n"
     ]
    }
   ],
   "source": [
    "print(\"Tokens: \", lex(\"\"\"x = 0\n",
    "while ( x < 10 ) {\n",
    "    x = x + 1\n",
    "    print x\n",
    "}\"\"\"))"
   ]
  },
  {
   "cell_type": "code",
   "execution_count": null,
   "metadata": {},
   "outputs": [],
   "source": []
  }
 ],
 "metadata": {
  "kernelspec": {
   "display_name": "Python 3",
   "language": "python",
   "name": "python3"
  },
  "language_info": {
   "codemirror_mode": {
    "name": "ipython",
    "version": 3
   },
   "file_extension": ".py",
   "mimetype": "text/x-python",
   "name": "python",
   "nbconvert_exporter": "python",
   "pygments_lexer": "ipython3",
   "version": "3.6.4"
  }
 },
 "nbformat": 4,
 "nbformat_minor": 2
}
